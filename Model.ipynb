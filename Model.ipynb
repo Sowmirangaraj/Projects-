{
 "cells": [
  {
   "cell_type": "code",
   "execution_count": 1,
   "id": "ddf34b79-a374-4c9b-ad8d-51b412ac7c7f",
   "metadata": {},
   "outputs": [],
   "source": [
    "import pandas as pd\n",
    "import numpy as np\n",
    "from sklearn.model_selection import train_test_split, GridSearchCV\n",
    "from sklearn.preprocessing import StandardScaler\n",
    "from sklearn.neighbors import KNeighborsClassifier\n",
    "import pickle\n",
    "\n",
    "# Load your dataset\n",
    "df = pd.read_csv(\"check_valve_qc_dataset.csv\")\n",
    "\n",
    "X = df[['valve_id', 'body_height', 'inlet_radius', 'outlet_radius',\n",
    "        'disc_thickness', 'spring_length']]\n",
    "y = df[['defective']]\n",
    "\n",
    "# Train/test split\n",
    "X_train, X_test, y_train, y_test = train_test_split(X, y, test_size=1/3, random_state=0)\n",
    "\n",
    "# Scaling\n",
    "scaler = StandardScaler()\n",
    "X_train_scaled = scaler.fit_transform(X_train)\n",
    "X_test_scaled = scaler.transform(X_test)\n",
    "\n",
    "# GridSearchCV\n",
    "param_grid = {\n",
    "    'n_neighbors': np.arange(1, 6),\n",
    "    'weights': ['uniform', 'distance'],\n",
    "    'algorithm': ['auto'],\n",
    "    'p': [1, 2]\n",
    "}\n",
    "grid = GridSearchCV(KNeighborsClassifier(), param_grid, refit=True, n_jobs=-1, scoring='f1_weighted')\n",
    "grid.fit(X_train_scaled, y_train.values.ravel())\n",
    "\n",
    "# Save the model and scaler\n",
    "pickle.dump(grid, open(\"knn_check_valve_model.pkl\", \"wb\"))\n",
    "pickle.dump(scaler, open(\"knn_check_valve_scaler.pkl\", \"wb\"))"
   ]
  },
  {
   "cell_type": "code",
   "execution_count": null,
   "id": "1b7d049d-23ff-4751-97be-1a228c979212",
   "metadata": {},
   "outputs": [],
   "source": []
  }
 ],
 "metadata": {
  "kernelspec": {
   "display_name": "Python 3 (ipykernel)",
   "language": "python",
   "name": "python3"
  },
  "language_info": {
   "codemirror_mode": {
    "name": "ipython",
    "version": 3
   },
   "file_extension": ".py",
   "mimetype": "text/x-python",
   "name": "python",
   "nbconvert_exporter": "python",
   "pygments_lexer": "ipython3",
   "version": "3.11.5"
  }
 },
 "nbformat": 4,
 "nbformat_minor": 5
}
